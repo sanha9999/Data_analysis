{
 "cells": [
  {
   "cell_type": "markdown",
   "metadata": {
    "id": "XPvkuCp7Mftc"
   },
   "source": [
    "## 1.  누군가의 평균 구하기\n",
    "\n",
    "* 입력으로 숫자가 몇 개 들어올지 모르는 상황에서 받은 모든 입력의 평균을 구하는 함수를 작성해보자."
   ]
  },
  {
   "cell_type": "code",
   "execution_count": 5,
   "metadata": {
    "id": "iaSefI2OMfti"
   },
   "outputs": [],
   "source": [
    "def get_average(*args):\n",
    "    sum=0\n",
    "    for arg in args:\n",
    "        print(arg)\n",
    "        sum += arg\n",
    "\n",
    "    mean = sum / len(args)    \n",
    "    return mean"
   ]
  },
  {
   "cell_type": "code",
   "execution_count": 6,
   "metadata": {
    "id": "P7QKwoVxMfti"
   },
   "outputs": [
    {
     "name": "stdout",
     "output_type": "stream",
     "text": [
      "70\n",
      "80\n",
      "90\n",
      "50\n",
      "70\n"
     ]
    },
    {
     "data": {
      "text/plain": [
       "72.0"
      ]
     },
     "execution_count": 6,
     "metadata": {},
     "output_type": "execute_result"
    }
   ],
   "source": [
    "# get_average 함수안에 원하는만큼 숫자 입력하기\n",
    "get_average(70, 80, 90, 50, 70)\n",
    "#mean = get_average(50, 30, 10)\n"
   ]
  },
  {
   "cell_type": "markdown",
   "metadata": {
    "id": "2-eNfOA1Mftj"
   },
   "source": [
    "## 2. 구구단 함수 만들기\n",
    "\n",
    "- 이번에는 for문을 여러개 사용하지 않고, 함수를 만들어서 구구단을 출력해봅시다.\n",
    "\n",
    "\n",
    "\n",
    "- gugudan 함수는 파라미터로 단을 입력받습니다.\n",
    "\n",
    "\n",
    "\n",
    "e.g. gugudan(2) # 2단 출력\n",
    "\n",
    "\n",
    "e.g. gugudan(3) # 3단 출력\n",
    "\n"
   ]
  },
  {
   "cell_type": "code",
   "execution_count": 7,
   "metadata": {
    "id": "9zbBg_3ZMftj"
   },
   "outputs": [],
   "source": [
    "def gugudan(dan):\n",
    "\n",
    "    for i in range(1, 10):\n",
    "        print(\"{} * {} = {}\".format(dan, i, dan*i))\n"
   ]
  },
  {
   "cell_type": "code",
   "execution_count": 8,
   "metadata": {
    "scrolled": true
   },
   "outputs": [
    {
     "name": "stdout",
     "output_type": "stream",
     "text": [
      "2 * 1 = 2\n",
      "2 * 2 = 4\n",
      "2 * 3 = 6\n",
      "2 * 4 = 8\n",
      "2 * 5 = 10\n",
      "2 * 6 = 12\n",
      "2 * 7 = 14\n",
      "2 * 8 = 16\n",
      "2 * 9 = 18\n"
     ]
    }
   ],
   "source": [
    "gugudan(2)"
   ]
  },
  {
   "cell_type": "code",
   "execution_count": 9,
   "metadata": {},
   "outputs": [
    {
     "name": "stdout",
     "output_type": "stream",
     "text": [
      "3 * 1 = 3\n",
      "3 * 2 = 6\n",
      "3 * 3 = 9\n",
      "3 * 4 = 12\n",
      "3 * 5 = 15\n",
      "3 * 6 = 18\n",
      "3 * 7 = 21\n",
      "3 * 8 = 24\n",
      "3 * 9 = 27\n"
     ]
    }
   ],
   "source": [
    "gugudan(3)"
   ]
  },
  {
   "cell_type": "markdown",
   "metadata": {
    "id": "ORdst6RAMftk"
   },
   "source": [
    "## 3. 절대값 계산하기\n",
    "\n",
    "* get_absolute_value 함수는 입력받은 파라미터의 절대값을 반환하는 함수입니다.\n",
    "\n",
    "* 임의의 정수를 입력하면 절대값을 반환하는 함수를 완성해봅시다.\n",
    "\n",
    "\n",
    "e.g. get_absolute_value(-3) # 3\n",
    "\n",
    "e.g. get_absolute_value(10) # 10"
   ]
  },
  {
   "cell_type": "code",
   "execution_count": 15,
   "metadata": {
    "id": "z4R2r5yBMftk"
   },
   "outputs": [],
   "source": [
    "def get_absolute_value(number):\n",
    "    if number<0:\n",
    "        return number*-1\n",
    "    else:\n",
    "        return number "
   ]
  },
  {
   "cell_type": "code",
   "execution_count": 16,
   "metadata": {
    "id": "17jJkIWsRd9c"
   },
   "outputs": [
    {
     "data": {
      "text/plain": [
       "3"
      ]
     },
     "execution_count": 16,
     "metadata": {},
     "output_type": "execute_result"
    }
   ],
   "source": [
    "get_absolute_value(-3)"
   ]
  },
  {
   "cell_type": "code",
   "execution_count": 17,
   "metadata": {},
   "outputs": [
    {
     "data": {
      "text/plain": [
       "10"
      ]
     },
     "execution_count": 17,
     "metadata": {},
     "output_type": "execute_result"
    }
   ],
   "source": [
    "get_absolute_value(10)"
   ]
  }
 ],
 "metadata": {
  "colab": {
   "collapsed_sections": [],
   "name": "07. Programming Practice(Function).ipynb",
   "provenance": []
  },
  "kernelspec": {
   "display_name": "Python 3",
   "language": "python",
   "name": "python3"
  },
  "language_info": {
   "codemirror_mode": {
    "name": "ipython",
    "version": 3
   },
   "file_extension": ".py",
   "mimetype": "text/x-python",
   "name": "python",
   "nbconvert_exporter": "python",
   "pygments_lexer": "ipython3",
   "version": "3.8.5"
  }
 },
 "nbformat": 4,
 "nbformat_minor": 1
}
