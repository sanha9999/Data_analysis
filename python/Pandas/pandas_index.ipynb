{
  "nbformat": 4,
  "nbformat_minor": 0,
  "metadata": {
    "colab": {
      "name": "pandas_index.ipynb",
      "provenance": [],
      "authorship_tag": "ABX9TyOkgAUNl5oFNtNaxRMuQdbD",
      "include_colab_link": true
    },
    "kernelspec": {
      "name": "python3",
      "display_name": "Python 3"
    },
    "language_info": {
      "name": "python"
    }
  },
  "cells": [
    {
      "cell_type": "markdown",
      "metadata": {
        "id": "view-in-github",
        "colab_type": "text"
      },
      "source": [
        "<a href=\"https://colab.research.google.com/github/sanha9999/Data_analysis/blob/main/python/Pandas/pandas_index.ipynb\" target=\"_parent\"><img src=\"https://colab.research.google.com/assets/colab-badge.svg\" alt=\"Open In Colab\"/></a>"
      ]
    },
    {
      "cell_type": "code",
      "metadata": {
        "colab": {
          "base_uri": "https://localhost:8080/"
        },
        "id": "1zEHjwv-okxl",
        "outputId": "49313b66-924a-4cfc-c411-e31695819f19"
      },
      "source": [
        "import pandas as pd\n",
        "\n",
        "#1-1 리스트를 시리즈로 변환하여 변수 sr에 저장\n",
        "list_data = ['2019-01-02',3-14,'ABC',100,True]\n",
        "sr= pd.Series(list_data)\n",
        "print(sr)"
      ],
      "execution_count": 1,
      "outputs": [
        {
          "output_type": "stream",
          "text": [
            "0    2019-01-02\n",
            "1           -11\n",
            "2           ABC\n",
            "3           100\n",
            "4          True\n",
            "dtype: object\n"
          ],
          "name": "stdout"
        }
      ]
    },
    {
      "cell_type": "code",
      "metadata": {
        "colab": {
          "base_uri": "https://localhost:8080/"
        },
        "id": "W1N0Hmqro1IG",
        "outputId": "97ab988c-b257-489d-f751-4ae5939f28a9"
      },
      "source": [
        "#1-1 리스트를 시리즈로 변환하여 변수 sr에 저장\n",
        "list_data = ['2019-01-02',3-14,'ABC',100,True]\n",
        "sr= pd.Series(list_data)\n",
        "print(sr)"
      ],
      "execution_count": 2,
      "outputs": [
        {
          "output_type": "stream",
          "text": [
            "0    2019-01-02\n",
            "1           -11\n",
            "2           ABC\n",
            "3           100\n",
            "4          True\n",
            "dtype: object\n"
          ],
          "name": "stdout"
        }
      ]
    },
    {
      "cell_type": "code",
      "metadata": {
        "colab": {
          "base_uri": "https://localhost:8080/"
        },
        "id": "iz8EvSC9o-74",
        "outputId": "9a1c6cfc-9d05-4462-f4a4-a02332aab4a1"
      },
      "source": [
        "#1-2 인덱스 배열은 변수idx에 저장,데이터 값 배열은 변수 val에 저장\n",
        "idx = sr.index\n",
        "val = sr.values\n",
        "print(idx)\n",
        "print('n')\n",
        "print(val)"
      ],
      "execution_count": 3,
      "outputs": [
        {
          "output_type": "stream",
          "text": [
            "RangeIndex(start=0, stop=5, step=1)\n",
            "n\n",
            "['2019-01-02' -11 'ABC' 100 True]\n"
          ],
          "name": "stdout"
        }
      ]
    },
    {
      "cell_type": "code",
      "metadata": {
        "colab": {
          "base_uri": "https://localhost:8080/"
        },
        "id": "JjR_oIQ9pETp",
        "outputId": "40c59ad6-1d8d-45e1-df6d-164d0bb22a36"
      },
      "source": [
        "#1-3 투플을 시리즈로 변환(인덱스 옵션 지정)\n",
        "tup_data = ('영인','2010-05-01','여', True)\n",
        "sr = pd.Series(tup_data, index=['이름','생년월일','성별','학생여부'])\n",
        "print(sr)\n",
        "\n",
        "#원소를 한개 선택\n",
        "print(sr[0])\n",
        "print(sr['이름'])\n",
        "\n",
        "# 여러 개의 원소를 선택(인덱스 리스트 활용)\n",
        "print(sr[[1,2]])\n",
        "print('\\n')\n",
        "print(sr[['생년월일','성별']])\n",
        "\n",
        "#여러개의 원소를 선택 (인덱스 범위 지정)\n",
        "print(sr[1:2])\n",
        "print('\\n')\n",
        "print(sr[['생년월일','성별']])"
      ],
      "execution_count": 4,
      "outputs": [
        {
          "output_type": "stream",
          "text": [
            "이름              영인\n",
            "생년월일    2010-05-01\n",
            "성별               여\n",
            "학생여부          True\n",
            "dtype: object\n",
            "영인\n",
            "영인\n",
            "생년월일    2010-05-01\n",
            "성별               여\n",
            "dtype: object\n",
            "\n",
            "\n",
            "생년월일    2010-05-01\n",
            "성별               여\n",
            "dtype: object\n",
            "생년월일    2010-05-01\n",
            "dtype: object\n",
            "\n",
            "\n",
            "생년월일    2010-05-01\n",
            "성별               여\n",
            "dtype: object\n"
          ],
          "name": "stdout"
        }
      ]
    },
    {
      "cell_type": "code",
      "metadata": {
        "colab": {
          "base_uri": "https://localhost:8080/",
          "height": 268
        },
        "id": "ni_66o3KpbW3",
        "outputId": "944c3285-43ac-48f8-8eee-da0f5213192d"
      },
      "source": [
        "# 열이름을 key로 하고, 리스트를 value로 갖는 딕셔너리 정의(2차원 배열)\n",
        "dict_data = {'c0': [1,2,3], 'c1':[4,5,6], 'c2':[7,8,9,], 'c3':[10,11,12], 'c4':[13,14,15]}\n",
        "\n",
        "#판다스 dataframe{} 함수로 딕셔너리를 데이터프레임으로 변환. 변수 df에 저장\n",
        "df = pd.DataFrame(dict_data)\n",
        "\n",
        "#df의 자료형 출력\n",
        "print(type(df))\n",
        "print('\\n')\n",
        "#변수 df에 저장되어 있는 데이터프레임 객체를 출력\n",
        "print(df)\n",
        "df"
      ],
      "execution_count": 5,
      "outputs": [
        {
          "output_type": "stream",
          "text": [
            "<class 'pandas.core.frame.DataFrame'>\n",
            "\n",
            "\n",
            "   c0  c1  c2  c3  c4\n",
            "0   1   4   7  10  13\n",
            "1   2   5   8  11  14\n",
            "2   3   6   9  12  15\n"
          ],
          "name": "stdout"
        },
        {
          "output_type": "execute_result",
          "data": {
            "text/html": [
              "<div>\n",
              "<style scoped>\n",
              "    .dataframe tbody tr th:only-of-type {\n",
              "        vertical-align: middle;\n",
              "    }\n",
              "\n",
              "    .dataframe tbody tr th {\n",
              "        vertical-align: top;\n",
              "    }\n",
              "\n",
              "    .dataframe thead th {\n",
              "        text-align: right;\n",
              "    }\n",
              "</style>\n",
              "<table border=\"1\" class=\"dataframe\">\n",
              "  <thead>\n",
              "    <tr style=\"text-align: right;\">\n",
              "      <th></th>\n",
              "      <th>c0</th>\n",
              "      <th>c1</th>\n",
              "      <th>c2</th>\n",
              "      <th>c3</th>\n",
              "      <th>c4</th>\n",
              "    </tr>\n",
              "  </thead>\n",
              "  <tbody>\n",
              "    <tr>\n",
              "      <th>0</th>\n",
              "      <td>1</td>\n",
              "      <td>4</td>\n",
              "      <td>7</td>\n",
              "      <td>10</td>\n",
              "      <td>13</td>\n",
              "    </tr>\n",
              "    <tr>\n",
              "      <th>1</th>\n",
              "      <td>2</td>\n",
              "      <td>5</td>\n",
              "      <td>8</td>\n",
              "      <td>11</td>\n",
              "      <td>14</td>\n",
              "    </tr>\n",
              "    <tr>\n",
              "      <th>2</th>\n",
              "      <td>3</td>\n",
              "      <td>6</td>\n",
              "      <td>9</td>\n",
              "      <td>12</td>\n",
              "      <td>15</td>\n",
              "    </tr>\n",
              "  </tbody>\n",
              "</table>\n",
              "</div>"
            ],
            "text/plain": [
              "   c0  c1  c2  c3  c4\n",
              "0   1   4   7  10  13\n",
              "1   2   5   8  11  14\n",
              "2   3   6   9  12  15"
            ]
          },
          "metadata": {
            "tags": []
          },
          "execution_count": 5
        }
      ]
    },
    {
      "cell_type": "code",
      "metadata": {
        "colab": {
          "base_uri": "https://localhost:8080/"
        },
        "id": "k5TqQpprpmIK",
        "outputId": "3e50bd5a-e94b-4aff-9908-b23481ef88d3"
      },
      "source": [
        "#행 인덱스/열 이름 지정하여 데이터프레임 만들기\n",
        "df = pd.DataFrame([[15, '남', '덕영중'],[17,'여','수리중']],\n",
        "                  index = ['준서','예은'],\n",
        "                  columns = ['나이','성별','학교'])\n",
        "\n",
        "#데이터프레임 df 출력\n",
        "print(df)\n",
        "print(\"\\n\")\n",
        "\n",
        "#열 이름 중, '나이'를 '연령'으로, '성별'을 '남여'로, '학교'를 소속으로 바꾸기\n",
        "df.rename(columns={'나이':'연령','성별':'남여','학교':'소속'}, inplace=True)\n",
        "\n",
        "# df의 행 인덱스 중에서, '준서'를 학생1로, 예은을 학생2로 바꾸자\n",
        "df.rename(index={'준서':'학생1','예은':'학생2'}, inplace=True)\n",
        "\n",
        "print(df)"
      ],
      "execution_count": 6,
      "outputs": [
        {
          "output_type": "stream",
          "text": [
            "    나이 성별   학교\n",
            "준서  15  남  덕영중\n",
            "예은  17  여  수리중\n",
            "\n",
            "\n",
            "     연령 남여   소속\n",
            "학생1  15  남  덕영중\n",
            "학생2  17  여  수리중\n"
          ],
          "name": "stdout"
        }
      ]
    },
    {
      "cell_type": "code",
      "metadata": {
        "colab": {
          "base_uri": "https://localhost:8080/"
        },
        "id": "9WX3OojKptV5",
        "outputId": "092104e3-c06c-41bf-b070-fa238fc69c62"
      },
      "source": [
        "exam_data = {'수학': [90,80,70], '영어': [98,89,95],\n",
        "             '음악':[100,30,50], '체육': [57,37,84]}\n",
        "\n",
        "df = pd.DataFrame(exam_data, index=['서준','우현','인아'])\n",
        "print(df)\n",
        "print('\\n')\n",
        "\n",
        "#데이터프레임 df를 복제하여 변수 df2에 저장. df2의 1개의 행(row) 삭제\n",
        "df2 = df[:]\n",
        "df2.drop('우현', inplace=True)\n",
        "print(df2)\n",
        "print('\\n')\n",
        "\n",
        "#데이터 프레임 df를 복제하여 변수 df3에 저장, df3의 2개 행(row) 삭제\n",
        "df3= df[:]\n",
        "df3.drop(['우현','인아'],axis=0,inplace=True)\n",
        "print(df3)"
      ],
      "execution_count": 7,
      "outputs": [
        {
          "output_type": "stream",
          "text": [
            "    수학  영어   음악  체육\n",
            "서준  90  98  100  57\n",
            "우현  80  89   30  37\n",
            "인아  70  95   50  84\n",
            "\n",
            "\n",
            "    수학  영어   음악  체육\n",
            "서준  90  98  100  57\n",
            "인아  70  95   50  84\n",
            "\n",
            "\n",
            "    수학  영어   음악  체육\n",
            "서준  90  98  100  57\n"
          ],
          "name": "stdout"
        },
        {
          "output_type": "stream",
          "text": [
            "/usr/local/lib/python3.7/dist-packages/pandas/core/frame.py:4174: SettingWithCopyWarning: \n",
            "A value is trying to be set on a copy of a slice from a DataFrame\n",
            "\n",
            "See the caveats in the documentation: https://pandas.pydata.org/pandas-docs/stable/user_guide/indexing.html#returning-a-view-versus-a-copy\n",
            "  errors=errors,\n",
            "/usr/local/lib/python3.7/dist-packages/pandas/core/frame.py:4174: SettingWithCopyWarning: \n",
            "A value is trying to be set on a copy of a slice from a DataFrame\n",
            "\n",
            "See the caveats in the documentation: https://pandas.pydata.org/pandas-docs/stable/user_guide/indexing.html#returning-a-view-versus-a-copy\n",
            "  errors=errors,\n"
          ],
          "name": "stderr"
        }
      ]
    },
    {
      "cell_type": "code",
      "metadata": {
        "colab": {
          "base_uri": "https://localhost:8080/"
        },
        "id": "8iN8tdl3pxQH",
        "outputId": "00f2a688-955c-4f1d-b9be-4c25959f5412"
      },
      "source": [
        "exam_data = {'수학': [90,80,70], '영어': [98,89,95],\n",
        "             '음악':[100,30,50], '체육': [57,37,84]}\n",
        "\n",
        "df = pd.DataFrame(exam_data, index=['서준','우현','인아'])\n",
        "print(df)\n",
        "print('\\n')\n",
        "\n",
        "#데이터프레임 df를 복제하여 변수 df2에 저장. df2의 1개의 행(row) 삭제\n",
        "df4 = df[:]\n",
        "df4.drop('수학',axis=1, inplace=True)\n",
        "print(df2)\n",
        "print('\\n')\n",
        "\n",
        "#데이터 프레임 df를 복제하여 변수 df3에 저장, df3의 2개 행(row) 삭제\n",
        "df5= df.copy()\n",
        "df5.drop(['영어','음악'],axis=1,inplace=True)\n",
        "print(df)"
      ],
      "execution_count": 8,
      "outputs": [
        {
          "output_type": "stream",
          "text": [
            "    수학  영어   음악  체육\n",
            "서준  90  98  100  57\n",
            "우현  80  89   30  37\n",
            "인아  70  95   50  84\n",
            "\n",
            "\n",
            "    수학  영어   음악  체육\n",
            "서준  90  98  100  57\n",
            "인아  70  95   50  84\n",
            "\n",
            "\n",
            "    수학  영어   음악  체육\n",
            "서준  90  98  100  57\n",
            "우현  80  89   30  37\n",
            "인아  70  95   50  84\n"
          ],
          "name": "stdout"
        },
        {
          "output_type": "stream",
          "text": [
            "/usr/local/lib/python3.7/dist-packages/pandas/core/frame.py:4174: SettingWithCopyWarning: \n",
            "A value is trying to be set on a copy of a slice from a DataFrame\n",
            "\n",
            "See the caveats in the documentation: https://pandas.pydata.org/pandas-docs/stable/user_guide/indexing.html#returning-a-view-versus-a-copy\n",
            "  errors=errors,\n"
          ],
          "name": "stderr"
        }
      ]
    },
    {
      "cell_type": "code",
      "metadata": {
        "colab": {
          "base_uri": "https://localhost:8080/"
        },
        "id": "t0o6uPUCp15j",
        "outputId": "804cbae0-210c-4f61-ca00-8550f6995cf6"
      },
      "source": [
        "exam_data = {'수학': [90,80,70], '영어': [98,89,95],\n",
        "             '음악':[100,30,50], '체육': [57,37,84]}\n",
        "\n",
        "df = pd.DataFrame(exam_data, index=['서준','우현','인아'])\n",
        "print(df)\n",
        "print('\\n')\n",
        "\n",
        "labell = df.loc['서준']\n",
        "positionl = df.iloc[0]\n",
        "print(labell)\n",
        "print('\\n')\n",
        "\n",
        "print(positionl)\n",
        "\n",
        "\n",
        "labell2 = df.loc[['서준', '우현']]\n",
        "positionl2 = df.iloc[[0,1]]\n",
        "print(labell2)\n",
        "print('\\n')\n",
        "\n",
        "print(positionl2)\n",
        "\n",
        "\n",
        "labell3 = df.loc['서준':'우현']\n",
        "positionl3 = df.iloc[0:1]\n",
        "print(labell3)\n",
        "print('\\n')\n",
        "\n",
        "print(positionl3)"
      ],
      "execution_count": 9,
      "outputs": [
        {
          "output_type": "stream",
          "text": [
            "    수학  영어   음악  체육\n",
            "서준  90  98  100  57\n",
            "우현  80  89   30  37\n",
            "인아  70  95   50  84\n",
            "\n",
            "\n",
            "수학     90\n",
            "영어     98\n",
            "음악    100\n",
            "체육     57\n",
            "Name: 서준, dtype: int64\n",
            "\n",
            "\n",
            "수학     90\n",
            "영어     98\n",
            "음악    100\n",
            "체육     57\n",
            "Name: 서준, dtype: int64\n",
            "    수학  영어   음악  체육\n",
            "서준  90  98  100  57\n",
            "우현  80  89   30  37\n",
            "\n",
            "\n",
            "    수학  영어   음악  체육\n",
            "서준  90  98  100  57\n",
            "우현  80  89   30  37\n",
            "    수학  영어   음악  체육\n",
            "서준  90  98  100  57\n",
            "우현  80  89   30  37\n",
            "\n",
            "\n",
            "    수학  영어   음악  체육\n",
            "서준  90  98  100  57\n"
          ],
          "name": "stdout"
        }
      ]
    },
    {
      "cell_type": "code",
      "metadata": {
        "id": "ufjhLJQ0p2iw"
      },
      "source": [
        "# DataFrame 함수로 데이터프레임 변환\n",
        "exam_data = {'이름' : ['서준', '우현', '인아'],\n",
        "             '수학' : [90, 80, 70],\n",
        "             '영어' : [98, 89, 95],\n",
        "             '음악' : [85, 95, 100],\n",
        "             '체육' : [100, 90, 90]}\n",
        "df = pd.DataFrame(exam_data)"
      ],
      "execution_count": 10,
      "outputs": []
    },
    {
      "cell_type": "code",
      "metadata": {
        "colab": {
          "base_uri": "https://localhost:8080/",
          "height": 142
        },
        "id": "bOceRXTixcSL",
        "outputId": "2f85d84c-b2e3-4abb-d79c-d6b40577a302"
      },
      "source": [
        "df"
      ],
      "execution_count": 11,
      "outputs": [
        {
          "output_type": "execute_result",
          "data": {
            "text/html": [
              "<div>\n",
              "<style scoped>\n",
              "    .dataframe tbody tr th:only-of-type {\n",
              "        vertical-align: middle;\n",
              "    }\n",
              "\n",
              "    .dataframe tbody tr th {\n",
              "        vertical-align: top;\n",
              "    }\n",
              "\n",
              "    .dataframe thead th {\n",
              "        text-align: right;\n",
              "    }\n",
              "</style>\n",
              "<table border=\"1\" class=\"dataframe\">\n",
              "  <thead>\n",
              "    <tr style=\"text-align: right;\">\n",
              "      <th></th>\n",
              "      <th>이름</th>\n",
              "      <th>수학</th>\n",
              "      <th>영어</th>\n",
              "      <th>음악</th>\n",
              "      <th>체육</th>\n",
              "    </tr>\n",
              "  </thead>\n",
              "  <tbody>\n",
              "    <tr>\n",
              "      <th>0</th>\n",
              "      <td>서준</td>\n",
              "      <td>90</td>\n",
              "      <td>98</td>\n",
              "      <td>85</td>\n",
              "      <td>100</td>\n",
              "    </tr>\n",
              "    <tr>\n",
              "      <th>1</th>\n",
              "      <td>우현</td>\n",
              "      <td>80</td>\n",
              "      <td>89</td>\n",
              "      <td>95</td>\n",
              "      <td>90</td>\n",
              "    </tr>\n",
              "    <tr>\n",
              "      <th>2</th>\n",
              "      <td>인아</td>\n",
              "      <td>70</td>\n",
              "      <td>95</td>\n",
              "      <td>100</td>\n",
              "      <td>90</td>\n",
              "    </tr>\n",
              "  </tbody>\n",
              "</table>\n",
              "</div>"
            ],
            "text/plain": [
              "   이름  수학  영어   음악   체육\n",
              "0  서준  90  98   85  100\n",
              "1  우현  80  89   95   90\n",
              "2  인아  70  95  100   90"
            ]
          },
          "metadata": {
            "tags": []
          },
          "execution_count": 11
        }
      ]
    },
    {
      "cell_type": "code",
      "metadata": {
        "colab": {
          "base_uri": "https://localhost:8080/"
        },
        "id": "bcGS9Yz1xdVY",
        "outputId": "ac711bdc-83e7-4599-b3a9-4307953951db"
      },
      "source": [
        "# 특정 열을 데이터 프레임의 행 인덱스로 설정\n",
        "ndf = df.set_index(['이름'])\n",
        "print(ndf)\n",
        "print(\"\\n\")\n",
        "ndf2 = ndf.set_index('음악')\n",
        "print(ndf2)\n",
        "print(\"\\n\")\n",
        "ndf3 = ndf.set_index(['수학', '음악'])\n",
        "print(ndf3)"
      ],
      "execution_count": 14,
      "outputs": [
        {
          "output_type": "stream",
          "text": [
            "    수학  영어   음악   체육\n",
            "이름                  \n",
            "서준  90  98   85  100\n",
            "우현  80  89   95   90\n",
            "인아  70  95  100   90\n",
            "\n",
            "\n",
            "     수학  영어   체육\n",
            "음악              \n",
            "85   90  98  100\n",
            "95   80  89   90\n",
            "100  70  95   90\n",
            "\n",
            "\n",
            "        영어   체육\n",
            "수학 음악          \n",
            "90 85   98  100\n",
            "80 95   89   90\n",
            "70 100  95   90\n"
          ],
          "name": "stdout"
        }
      ]
    },
    {
      "cell_type": "code",
      "metadata": {
        "id": "5Ue04cOAx0ow"
      },
      "source": [
        "5"
      ],
      "execution_count": null,
      "outputs": []
    }
  ]
}