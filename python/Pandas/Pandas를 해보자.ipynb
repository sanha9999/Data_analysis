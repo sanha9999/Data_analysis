{
 "cells": [
  {
   "cell_type": "code",
   "execution_count": 1,
   "metadata": {},
   "outputs": [],
   "source": [
    "import pandas as pd\n",
    "import numpy as np"
   ]
  },
  {
   "cell_type": "markdown",
   "metadata": {},
   "source": [
    "# Pandas란?\n",
    "\n",
    "- pandas는 <b>\"pythin data analysis\"</b>의 약자이다.\n",
    "- pandas 역시 다양한 머신러닝 라이브러리들에 의존성을 가지고 있다.\n",
    "- 간단하게 생각하자면 python에서 excel의 기능을 사용할 수 있게되는 것이다.\n",
    "- 하지만 pandas는 numpy array를 베이스로 지원하며 파이썬과 함께 강력한 시너지를 내기 때문에 엑셀 그 이상의 퍼포먼스를 낼 수 있다!!!\n",
    "\n",
    "### pandas의 단위는 DataFrame을 사용한다.\n",
    "- 우리가 흔히 알고있는 spreadsheet와 같은 개념이다."
   ]
  },
  {
   "cell_type": "code",
   "execution_count": 2,
   "metadata": {},
   "outputs": [
    {
     "name": "stdout",
     "output_type": "stream",
     "text": [
      "1.2.3\n"
     ]
    }
   ],
   "source": [
    "# pandas 버전 확인\n",
    "print(pd.__version__)"
   ]
  },
  {
   "cell_type": "markdown",
   "metadata": {},
   "source": [
    "- DataFrame은 2차원 테이블이고, 테이블의 한 줄을 Series라고 한다.\n",
    "- Series들이 모여서 DataFrame이 된다."
   ]
  },
  {
   "cell_type": "code",
   "execution_count": 3,
   "metadata": {},
   "outputs": [],
   "source": [
    "s = pd.Series([1,3,5, np.nan, 6, 8])"
   ]
  },
  {
   "cell_type": "code",
   "execution_count": 4,
   "metadata": {},
   "outputs": [
    {
     "data": {
      "text/plain": [
       "0    1.0\n",
       "1    3.0\n",
       "2    5.0\n",
       "3    NaN\n",
       "4    6.0\n",
       "5    8.0\n",
       "dtype: float64"
      ]
     },
     "execution_count": 4,
     "metadata": {},
     "output_type": "execute_result"
    }
   ],
   "source": [
    "s"
   ]
  },
  {
   "cell_type": "code",
   "execution_count": 6,
   "metadata": {},
   "outputs": [],
   "source": [
    "# pandas는 date_range라는 함수를 통해, 날짜 정보를 쉽게 생성해주는 객체도 제공한다.\n",
    "\n",
    "dates = pd.date_range('20210101', periods=6)"
   ]
  },
  {
   "cell_type": "code",
   "execution_count": 7,
   "metadata": {
    "scrolled": true
   },
   "outputs": [
    {
     "data": {
      "text/plain": [
       "DatetimeIndex(['2021-01-01', '2021-01-02', '2021-01-03', '2021-01-04',\n",
       "               '2021-01-05', '2021-01-06'],\n",
       "              dtype='datetime64[ns]', freq='D')"
      ]
     },
     "execution_count": 7,
     "metadata": {},
     "output_type": "execute_result"
    }
   ],
   "source": [
    "dates"
   ]
  },
  {
   "cell_type": "code",
   "execution_count": 8,
   "metadata": {},
   "outputs": [],
   "source": [
    "# 6 * 4 행렬에 -1에서 1사이의 랜덤한 숫자를 가지는 원소를 가지고, index열은 dates, 나머지 columns은 순서대로\n",
    "df = pd.DataFrame(np.random.randn(6, 4), index=dates, columns=['a','b','c','d'])"
   ]
  },
  {
   "cell_type": "code",
   "execution_count": 9,
   "metadata": {},
   "outputs": [
    {
     "data": {
      "text/html": [
       "<div>\n",
       "<style scoped>\n",
       "    .dataframe tbody tr th:only-of-type {\n",
       "        vertical-align: middle;\n",
       "    }\n",
       "\n",
       "    .dataframe tbody tr th {\n",
       "        vertical-align: top;\n",
       "    }\n",
       "\n",
       "    .dataframe thead th {\n",
       "        text-align: right;\n",
       "    }\n",
       "</style>\n",
       "<table border=\"1\" class=\"dataframe\">\n",
       "  <thead>\n",
       "    <tr style=\"text-align: right;\">\n",
       "      <th></th>\n",
       "      <th>a</th>\n",
       "      <th>b</th>\n",
       "      <th>c</th>\n",
       "      <th>d</th>\n",
       "    </tr>\n",
       "  </thead>\n",
       "  <tbody>\n",
       "    <tr>\n",
       "      <th>2021-01-01</th>\n",
       "      <td>-0.198899</td>\n",
       "      <td>-1.003599</td>\n",
       "      <td>1.204560</td>\n",
       "      <td>0.463144</td>\n",
       "    </tr>\n",
       "    <tr>\n",
       "      <th>2021-01-02</th>\n",
       "      <td>-0.189458</td>\n",
       "      <td>0.867415</td>\n",
       "      <td>0.101896</td>\n",
       "      <td>0.351988</td>\n",
       "    </tr>\n",
       "    <tr>\n",
       "      <th>2021-01-03</th>\n",
       "      <td>1.294024</td>\n",
       "      <td>0.681468</td>\n",
       "      <td>1.506978</td>\n",
       "      <td>-0.303144</td>\n",
       "    </tr>\n",
       "    <tr>\n",
       "      <th>2021-01-04</th>\n",
       "      <td>0.052472</td>\n",
       "      <td>0.689737</td>\n",
       "      <td>-0.419073</td>\n",
       "      <td>-1.299466</td>\n",
       "    </tr>\n",
       "    <tr>\n",
       "      <th>2021-01-05</th>\n",
       "      <td>0.680313</td>\n",
       "      <td>-0.746999</td>\n",
       "      <td>-0.547355</td>\n",
       "      <td>1.857555</td>\n",
       "    </tr>\n",
       "    <tr>\n",
       "      <th>2021-01-06</th>\n",
       "      <td>-1.365755</td>\n",
       "      <td>1.192140</td>\n",
       "      <td>-0.269917</td>\n",
       "      <td>-0.645181</td>\n",
       "    </tr>\n",
       "  </tbody>\n",
       "</table>\n",
       "</div>"
      ],
      "text/plain": [
       "                   a         b         c         d\n",
       "2021-01-01 -0.198899 -1.003599  1.204560  0.463144\n",
       "2021-01-02 -0.189458  0.867415  0.101896  0.351988\n",
       "2021-01-03  1.294024  0.681468  1.506978 -0.303144\n",
       "2021-01-04  0.052472  0.689737 -0.419073 -1.299466\n",
       "2021-01-05  0.680313 -0.746999 -0.547355  1.857555\n",
       "2021-01-06 -1.365755  1.192140 -0.269917 -0.645181"
      ]
     },
     "execution_count": 9,
     "metadata": {},
     "output_type": "execute_result"
    }
   ],
   "source": [
    "df"
   ]
  }
 ],
 "metadata": {
  "kernelspec": {
   "display_name": "Python 3",
   "language": "python",
   "name": "python3"
  },
  "language_info": {
   "codemirror_mode": {
    "name": "ipython",
    "version": 3
   },
   "file_extension": ".py",
   "mimetype": "text/x-python",
   "name": "python",
   "nbconvert_exporter": "python",
   "pygments_lexer": "ipython3",
   "version": "3.8.5"
  }
 },
 "nbformat": 4,
 "nbformat_minor": 4
}
