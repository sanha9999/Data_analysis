{
 "cells": [
  {
   "cell_type": "markdown",
   "metadata": {},
   "source": [
    "# Numpy Methods"
   ]
  },
  {
   "cell_type": "code",
   "execution_count": 1,
   "metadata": {},
   "outputs": [],
   "source": [
    "import numpy as np"
   ]
  },
  {
   "cell_type": "code",
   "execution_count": 2,
   "metadata": {},
   "outputs": [
    {
     "data": {
      "text/plain": [
       "array([[-1.01781937,  1.67579454,  0.21424901],\n",
       "       [-0.39714738, -0.0481393 ,  0.5553698 ],\n",
       "       [ 0.69370464, -0.25458863,  0.45209047],\n",
       "       [ 2.47256353, -0.94194037,  0.28823428],\n",
       "       [-1.52568189,  0.0603852 ,  0.03149339]])"
      ]
     },
     "execution_count": 2,
     "metadata": {},
     "output_type": "execute_result"
    }
   ],
   "source": [
    "# 랜덤 샘플링 5*3 행렬 만들기\n",
    "mat1 = np.random.randn(5,3) # 숫자를 파라미터로 잘 받음 \n",
    "mat1"
   ]
  },
  {
   "cell_type": "code",
   "execution_count": 3,
   "metadata": {},
   "outputs": [
    {
     "data": {
      "text/plain": [
       "array([[1.01781937, 1.67579454, 0.21424901],\n",
       "       [0.39714738, 0.0481393 , 0.5553698 ],\n",
       "       [0.69370464, 0.25458863, 0.45209047],\n",
       "       [2.47256353, 0.94194037, 0.28823428],\n",
       "       [1.52568189, 0.0603852 , 0.03149339]])"
      ]
     },
     "execution_count": 3,
     "metadata": {},
     "output_type": "execute_result"
    }
   ],
   "source": [
    "# mat1에 절대값 씌우기\n",
    "np.abs(mat1)"
   ]
  },
  {
   "cell_type": "code",
   "execution_count": 4,
   "metadata": {},
   "outputs": [
    {
     "name": "stderr",
     "output_type": "stream",
     "text": [
      "<ipython-input-4-5f34006462b6>:2: RuntimeWarning: invalid value encountered in sqrt\n",
      "  np.sqrt(mat1)\n"
     ]
    },
    {
     "data": {
      "text/plain": [
       "array([[       nan, 1.29452483, 0.4628704 ],\n",
       "       [       nan,        nan, 0.74523137],\n",
       "       [0.83288933,        nan, 0.67237673],\n",
       "       [1.57243872,        nan, 0.53687455],\n",
       "       [       nan, 0.245734  , 0.17746378]])"
      ]
     },
     "execution_count": 4,
     "metadata": {},
     "output_type": "execute_result"
    }
   ],
   "source": [
    "# mat1의 제곱근 구하기 \n",
    "# 음수는 제곱근이 허수이기때문에 runtimewarning 이 뜬다.\n",
    "np.sqrt(mat1)"
   ]
  },
  {
   "cell_type": "code",
   "execution_count": 7,
   "metadata": {},
   "outputs": [
    {
     "data": {
      "text/plain": [
       "array([[-1.01781937+0.j,  1.67579454+0.j,  0.21424901+0.j],\n",
       "       [-0.39714738+0.j, -0.0481393 +0.j,  0.5553698 +0.j],\n",
       "       [ 0.69370464+0.j, -0.25458863+0.j,  0.45209047+0.j],\n",
       "       [ 2.47256353+0.j, -0.94194037+0.j,  0.28823428+0.j],\n",
       "       [-1.52568189+0.j,  0.0603852 +0.j,  0.03149339+0.j]])"
      ]
     },
     "execution_count": 7,
     "metadata": {},
     "output_type": "execute_result"
    }
   ],
   "source": [
    "# 그냥 하고 싶다면?\n",
    "comp1 = np.array(mat1, dtype=complex)\n",
    "comp1"
   ]
  },
  {
   "cell_type": "code",
   "execution_count": 8,
   "metadata": {},
   "outputs": [
    {
     "data": {
      "text/plain": [
       "array([[1.03595627e+00, 2.80828734e+00, 4.59026368e-02],\n",
       "       [1.57726039e-01, 2.31739184e-03, 3.08435609e-01],\n",
       "       [4.81226125e-01, 6.48153700e-02, 2.04385796e-01],\n",
       "       [6.11357042e+00, 8.87251667e-01, 8.30790020e-02],\n",
       "       [2.32770524e+00, 3.64637213e-03, 9.91833763e-04]])"
      ]
     },
     "execution_count": 8,
     "metadata": {},
     "output_type": "execute_result"
    }
   ],
   "source": [
    "# mat1 제곱하기\n",
    "np.square(mat1)"
   ]
  },
  {
   "cell_type": "code",
   "execution_count": 9,
   "metadata": {},
   "outputs": [
    {
     "data": {
      "text/plain": [
       "array([[ 0.36138212,  5.34303872,  1.23893112],\n",
       "       [ 0.67223495,  0.95300103,  1.74258527],\n",
       "       [ 2.00111523,  0.77523534,  1.57159413],\n",
       "       [11.85279296,  0.38987061,  1.33406982],\n",
       "       [ 0.21747271,  1.06224564,  1.03199456]])"
      ]
     },
     "execution_count": 9,
     "metadata": {},
     "output_type": "execute_result"
    }
   ],
   "source": [
    "# mat1의 지숫값 구하기\n",
    "np.exp(mat1)"
   ]
  },
  {
   "cell_type": "code",
   "execution_count": 10,
   "metadata": {},
   "outputs": [
    {
     "name": "stderr",
     "output_type": "stream",
     "text": [
      "<ipython-input-10-900afb1eb5e1>:2: RuntimeWarning: invalid value encountered in log\n",
      "  np.log(mat1)\n"
     ]
    },
    {
     "data": {
      "text/plain": [
       "array([[        nan,  0.5162874 , -1.54061636],\n",
       "       [        nan,         nan, -0.58812109],\n",
       "       [-0.365709  ,         nan, -0.79387296],\n",
       "       [ 0.90525548,         nan, -1.24398165],\n",
       "       [        nan, -2.80701127, -3.45797752]])"
      ]
     },
     "execution_count": 10,
     "metadata": {},
     "output_type": "execute_result"
    }
   ],
   "source": [
    "# mat1의 자연로그 구하기\n",
    "# 얘도 음수가 존재할 수 없기 떄문에 오류가 뜬다.\n",
    "np.log(mat1)"
   ]
  },
  {
   "cell_type": "code",
   "execution_count": 11,
   "metadata": {},
   "outputs": [
    {
     "name": "stderr",
     "output_type": "stream",
     "text": [
      "<ipython-input-11-a091af1a621d>:2: RuntimeWarning: invalid value encountered in log10\n",
      "  np.log10(mat1)\n"
     ]
    },
    {
     "data": {
      "text/plain": [
       "array([[        nan,  0.22422077, -0.66908118],\n",
       "       [        nan,         nan, -0.25541774],\n",
       "       [-0.1588254 ,         nan, -0.34477465],\n",
       "       [ 0.39314746,         nan, -0.54025436],\n",
       "       [        nan, -1.21906951, -1.50178056]])"
      ]
     },
     "execution_count": 11,
     "metadata": {},
     "output_type": "execute_result"
    }
   ],
   "source": [
    "# 상용로그\n",
    "np.log10(mat1)"
   ]
  },
  {
   "cell_type": "code",
   "execution_count": 12,
   "metadata": {},
   "outputs": [
    {
     "data": {
      "text/plain": [
       "array([[-1.,  1.,  1.],\n",
       "       [-1., -1.,  1.],\n",
       "       [ 1., -1.,  1.],\n",
       "       [ 1., -1.,  1.],\n",
       "       [-1.,  1.,  1.]])"
      ]
     },
     "execution_count": 12,
     "metadata": {},
     "output_type": "execute_result"
    }
   ],
   "source": [
    "# 부호찾기\n",
    "np.sign(mat1)"
   ]
  },
  {
   "cell_type": "code",
   "execution_count": 13,
   "metadata": {},
   "outputs": [
    {
     "data": {
      "text/plain": [
       "array([[-1.,  2.,  1.],\n",
       "       [-0., -0.,  1.],\n",
       "       [ 1., -0.,  1.],\n",
       "       [ 3., -0.,  1.],\n",
       "       [-1.,  1.,  1.]])"
      ]
     },
     "execution_count": 13,
     "metadata": {},
     "output_type": "execute_result"
    }
   ],
   "source": [
    "# 올림\n",
    "np.ceil(mat1)"
   ]
  },
  {
   "cell_type": "code",
   "execution_count": 14,
   "metadata": {},
   "outputs": [
    {
     "data": {
      "text/plain": [
       "array([[-2.,  1.,  0.],\n",
       "       [-1., -1.,  0.],\n",
       "       [ 0., -1.,  0.],\n",
       "       [ 2., -1.,  0.],\n",
       "       [-2.,  0.,  0.]])"
      ]
     },
     "execution_count": 14,
     "metadata": {},
     "output_type": "execute_result"
    }
   ],
   "source": [
    "# 내림\n",
    "np.floor(mat1)"
   ]
  },
  {
   "cell_type": "code",
   "execution_count": 15,
   "metadata": {},
   "outputs": [
    {
     "data": {
      "text/plain": [
       "array([[False, False, False],\n",
       "       [False, False, False],\n",
       "       [False, False, False],\n",
       "       [False, False, False],\n",
       "       [False, False, False]])"
      ]
     },
     "execution_count": 15,
     "metadata": {},
     "output_type": "execute_result"
    }
   ],
   "source": [
    "# 존재하지 않는 값이 있는지 없는지 \n",
    "np.isnan(mat1)"
   ]
  },
  {
   "cell_type": "code",
   "execution_count": 16,
   "metadata": {},
   "outputs": [
    {
     "name": "stderr",
     "output_type": "stream",
     "text": [
      "<ipython-input-16-cb2ae9d6dc08>:1: RuntimeWarning: invalid value encountered in log\n",
      "  np.isnan(np.log(mat1))\n"
     ]
    },
    {
     "data": {
      "text/plain": [
       "array([[ True, False, False],\n",
       "       [ True,  True, False],\n",
       "       [False,  True, False],\n",
       "       [False,  True, False],\n",
       "       [ True, False, False]])"
      ]
     },
     "execution_count": 16,
     "metadata": {},
     "output_type": "execute_result"
    }
   ],
   "source": [
    "np.isnan(np.log(mat1))"
   ]
  },
  {
   "cell_type": "code",
   "execution_count": 17,
   "metadata": {},
   "outputs": [
    {
     "data": {
      "text/plain": [
       "array([[ 0.05697991, -0.41746594,  0.2244713 ],\n",
       "       [ 0.27128043,  2.46363585, -1.15569289],\n",
       "       [-1.06198323, -1.83644063, -0.39500423],\n",
       "       [-0.00982737,  0.00477663, -0.04346195],\n",
       "       [ 0.09287584,  1.09793624, -1.75465016]])"
      ]
     },
     "execution_count": 17,
     "metadata": {},
     "output_type": "execute_result"
    }
   ],
   "source": [
    "mat2 = np.random.randn(5,3)\n",
    "mat2"
   ]
  },
  {
   "cell_type": "code",
   "execution_count": 19,
   "metadata": {},
   "outputs": [
    {
     "data": {
      "text/plain": [
       "array([[ 0.05697991,  1.67579454,  0.2244713 ],\n",
       "       [ 0.27128043,  2.46363585,  0.5553698 ],\n",
       "       [ 0.69370464, -0.25458863,  0.45209047],\n",
       "       [ 2.47256353,  0.00477663,  0.28823428],\n",
       "       [ 0.09287584,  1.09793624,  0.03149339]])"
      ]
     },
     "execution_count": 19,
     "metadata": {},
     "output_type": "execute_result"
    }
   ],
   "source": [
    "np.maximum(mat1, mat2)"
   ]
  },
  {
   "cell_type": "markdown",
   "metadata": {},
   "source": [
    "# Reshaping array"
   ]
  },
  {
   "cell_type": "code",
   "execution_count": 20,
   "metadata": {},
   "outputs": [
    {
     "data": {
      "text/plain": [
       "array([[1, 2, 3],\n",
       "       [4, 5, 6],\n",
       "       [7, 8, 9]])"
      ]
     },
     "execution_count": 20,
     "metadata": {},
     "output_type": "execute_result"
    }
   ],
   "source": [
    "x = np.array([[1,2,3],\n",
    "             [4,5,6],\n",
    "             [7,8,9]])\n",
    "x"
   ]
  },
  {
   "cell_type": "code",
   "execution_count": 23,
   "metadata": {},
   "outputs": [],
   "source": [
    "# x를 3 * 3 행렬로 변형\n",
    "x1 = np.arange(1, 10).reshape(3,3)"
   ]
  },
  {
   "cell_type": "code",
   "execution_count": 24,
   "metadata": {},
   "outputs": [
    {
     "data": {
      "text/plain": [
       "array([[1, 2, 3],\n",
       "       [4, 5, 6],\n",
       "       [7, 8, 9]])"
      ]
     },
     "execution_count": 24,
     "metadata": {},
     "output_type": "execute_result"
    }
   ],
   "source": [
    "x1"
   ]
  },
  {
   "cell_type": "code",
   "execution_count": 25,
   "metadata": {},
   "outputs": [
    {
     "data": {
      "text/plain": [
       "array([[ True,  True,  True],\n",
       "       [ True,  True,  True],\n",
       "       [ True,  True,  True]])"
      ]
     },
     "execution_count": 25,
     "metadata": {},
     "output_type": "execute_result"
    }
   ],
   "source": [
    "x == x1 # 같다!"
   ]
  },
  {
   "cell_type": "code",
   "execution_count": 27,
   "metadata": {},
   "outputs": [
    {
     "data": {
      "text/plain": [
       "array([[1],\n",
       "       [2],\n",
       "       [3]])"
      ]
     },
     "execution_count": 27,
     "metadata": {},
     "output_type": "execute_result"
    }
   ],
   "source": [
    "# (!,2,3)을 transpose\n",
    "x2 = np.array((1,2,3)).reshape(-1, 1)\n",
    "x2"
   ]
  },
  {
   "cell_type": "markdown",
   "metadata": {},
   "source": [
    "# Concatenation of arrays"
   ]
  },
  {
   "cell_type": "code",
   "execution_count": 28,
   "metadata": {},
   "outputs": [
    {
     "data": {
      "text/plain": [
       "array([5, 7, 9])"
      ]
     },
     "execution_count": 28,
     "metadata": {},
     "output_type": "execute_result"
    }
   ],
   "source": [
    "arr1 = np.array([1,2,3])\n",
    "arr2 = np.array([4,5,6])\n",
    "arr1 + arr2"
   ]
  },
  {
   "cell_type": "code",
   "execution_count": 30,
   "metadata": {},
   "outputs": [
    {
     "data": {
      "text/plain": [
       "array([1, 2, 3, 4, 5, 6])"
      ]
     },
     "execution_count": 30,
     "metadata": {},
     "output_type": "execute_result"
    }
   ],
   "source": [
    "np.concatenate([arr1, arr2]) # 파라미터로 리스트가 들어감"
   ]
  },
  {
   "cell_type": "code",
   "execution_count": 32,
   "metadata": {},
   "outputs": [
    {
     "data": {
      "text/plain": [
       "array([[1, 2, 3],\n",
       "       [4, 5, 6]])"
      ]
     },
     "execution_count": 32,
     "metadata": {},
     "output_type": "execute_result"
    }
   ],
   "source": [
    "np.vstack([arr1, arr2])"
   ]
  },
  {
   "cell_type": "code",
   "execution_count": 33,
   "metadata": {},
   "outputs": [
    {
     "data": {
      "text/plain": [
       "array([1, 2, 3, 4, 5, 6])"
      ]
     },
     "execution_count": 33,
     "metadata": {},
     "output_type": "execute_result"
    }
   ],
   "source": [
    "np.hstack([arr1, arr2])"
   ]
  }
 ],
 "metadata": {
  "kernelspec": {
   "display_name": "Python 3",
   "language": "python",
   "name": "python3"
  },
  "language_info": {
   "codemirror_mode": {
    "name": "ipython",
    "version": 3
   },
   "file_extension": ".py",
   "mimetype": "text/x-python",
   "name": "python",
   "nbconvert_exporter": "python",
   "pygments_lexer": "ipython3",
   "version": "3.8.5"
  }
 },
 "nbformat": 4,
 "nbformat_minor": 4
}
